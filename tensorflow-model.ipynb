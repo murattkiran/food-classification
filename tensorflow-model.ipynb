{
 "cells": [
  {
   "cell_type": "markdown",
   "id": "4a26eb4a",
   "metadata": {},
   "source": [
    "# Convert Keras to TF-Lite"
   ]
  },
  {
   "cell_type": "code",
   "execution_count": 2,
   "id": "8967921b",
   "metadata": {},
   "outputs": [],
   "source": [
    "import tensorflow as tf\n",
    "from tensorflow import keras"
   ]
  },
  {
   "cell_type": "code",
   "execution_count": 6,
   "id": "4ed49540",
   "metadata": {},
   "outputs": [
    {
     "name": "stderr",
     "output_type": "stream",
     "text": [
      "2023-12-27 21:28:09.119103: I tensorflow/stream_executor/cuda/cuda_gpu_executor.cc:975] successful NUMA node read from SysFS had negative value (-1), but there must be at least one NUMA node, so returning NUMA node zero\n",
      "2023-12-27 21:28:09.126148: I tensorflow/stream_executor/cuda/cuda_gpu_executor.cc:975] successful NUMA node read from SysFS had negative value (-1), but there must be at least one NUMA node, so returning NUMA node zero\n",
      "2023-12-27 21:28:09.126745: I tensorflow/stream_executor/cuda/cuda_gpu_executor.cc:975] successful NUMA node read from SysFS had negative value (-1), but there must be at least one NUMA node, so returning NUMA node zero\n",
      "2023-12-27 21:28:09.127667: I tensorflow/core/platform/cpu_feature_guard.cc:193] This TensorFlow binary is optimized with oneAPI Deep Neural Network Library (oneDNN) to use the following CPU instructions in performance-critical operations:  AVX2 AVX512F AVX512_VNNI FMA\n",
      "To enable them in other operations, rebuild TensorFlow with the appropriate compiler flags.\n",
      "2023-12-27 21:28:09.127999: I tensorflow/stream_executor/cuda/cuda_gpu_executor.cc:975] successful NUMA node read from SysFS had negative value (-1), but there must be at least one NUMA node, so returning NUMA node zero\n",
      "2023-12-27 21:28:09.128570: I tensorflow/stream_executor/cuda/cuda_gpu_executor.cc:975] successful NUMA node read from SysFS had negative value (-1), but there must be at least one NUMA node, so returning NUMA node zero\n",
      "2023-12-27 21:28:09.129098: I tensorflow/stream_executor/cuda/cuda_gpu_executor.cc:975] successful NUMA node read from SysFS had negative value (-1), but there must be at least one NUMA node, so returning NUMA node zero\n",
      "2023-12-27 21:28:09.749390: I tensorflow/stream_executor/cuda/cuda_gpu_executor.cc:975] successful NUMA node read from SysFS had negative value (-1), but there must be at least one NUMA node, so returning NUMA node zero\n",
      "2023-12-27 21:28:09.749983: I tensorflow/stream_executor/cuda/cuda_gpu_executor.cc:975] successful NUMA node read from SysFS had negative value (-1), but there must be at least one NUMA node, so returning NUMA node zero\n",
      "2023-12-27 21:28:09.750506: I tensorflow/stream_executor/cuda/cuda_gpu_executor.cc:975] successful NUMA node read from SysFS had negative value (-1), but there must be at least one NUMA node, so returning NUMA node zero\n",
      "2023-12-27 21:28:09.751028: I tensorflow/core/common_runtime/gpu/gpu_device.cc:1532] Created device /job:localhost/replica:0/task:0/device:GPU:0 with 13795 MB memory:  -> device: 0, name: Tesla T4, pci bus id: 0000:00:1e.0, compute capability: 7.5\n"
     ]
    }
   ],
   "source": [
    "model = keras.models.load_model('xception_v4_48_0.886.h5')"
   ]
  },
  {
   "cell_type": "code",
   "execution_count": 7,
   "id": "4d33030d",
   "metadata": {},
   "outputs": [
    {
     "name": "stderr",
     "output_type": "stream",
     "text": [
      "WARNING:absl:Found untraced functions such as _jit_compiled_convolution_op, _jit_compiled_convolution_op, _jit_compiled_convolution_op, _jit_compiled_convolution_op, _jit_compiled_convolution_op while saving (showing 5 of 40). These functions will not be directly callable after loading.\n"
     ]
    },
    {
     "name": "stdout",
     "output_type": "stream",
     "text": [
      "INFO:tensorflow:Assets written to: /tmp/tmpbhlnn8nb/assets\n"
     ]
    },
    {
     "name": "stderr",
     "output_type": "stream",
     "text": [
      "INFO:tensorflow:Assets written to: /tmp/tmpbhlnn8nb/assets\n",
      "2023-12-27 21:30:11.769173: W tensorflow/compiler/mlir/lite/python/tf_tfl_flatbuffer_helpers.cc:362] Ignored output_format.\n",
      "2023-12-27 21:30:11.769218: W tensorflow/compiler/mlir/lite/python/tf_tfl_flatbuffer_helpers.cc:365] Ignored drop_control_dependency.\n",
      "2023-12-27 21:30:11.769962: I tensorflow/cc/saved_model/reader.cc:43] Reading SavedModel from: /tmp/tmpbhlnn8nb\n",
      "2023-12-27 21:30:11.798440: I tensorflow/cc/saved_model/reader.cc:81] Reading meta graph with tags { serve }\n",
      "2023-12-27 21:30:11.798472: I tensorflow/cc/saved_model/reader.cc:122] Reading SavedModel debug info (if present) from: /tmp/tmpbhlnn8nb\n",
      "2023-12-27 21:30:11.889284: I tensorflow/compiler/mlir/mlir_graph_optimization_pass.cc:354] MLIR V1 optimization pass is not enabled\n",
      "2023-12-27 21:30:11.916307: I tensorflow/cc/saved_model/loader.cc:228] Restoring SavedModel bundle.\n",
      "2023-12-27 21:30:12.494414: I tensorflow/cc/saved_model/loader.cc:212] Running initialization op on SavedModel bundle at path: /tmp/tmpbhlnn8nb\n",
      "2023-12-27 21:30:12.702621: I tensorflow/cc/saved_model/loader.cc:301] SavedModel load for tags { serve }; Status: success: OK. Took 932660 microseconds.\n",
      "2023-12-27 21:30:13.097680: I tensorflow/compiler/mlir/tensorflow/utils/dump_mlir_util.cc:263] disabling MLIR crash reproducer, set env var `MLIR_CRASH_REPRODUCER_DIRECTORY` to enable.\n"
     ]
    }
   ],
   "source": [
    "converter = tf.lite.TFLiteConverter.from_keras_model(model)\n",
    "\n",
    "tflite_model = converter.convert()\n",
    "\n",
    "with open('xception_v4_48_0.886.tflite', 'wb') as f_out:\n",
    "    f_out.write(tflite_model)\n"
   ]
  },
  {
   "cell_type": "code",
   "execution_count": 8,
   "id": "53cef8c9",
   "metadata": {},
   "outputs": [
    {
     "name": "stdout",
     "output_type": "stream",
     "text": [
      "Requirement already satisfied: keras-image-helper in /opt/saturncloud/envs/saturn/lib/python3.9/site-packages (0.0.1)\r\n",
      "Requirement already satisfied: pillow in /opt/saturncloud/envs/saturn/lib/python3.9/site-packages (from keras-image-helper) (9.2.0)\r\n",
      "Requirement already satisfied: numpy in /opt/saturncloud/envs/saturn/lib/python3.9/site-packages (from keras-image-helper) (1.26.2)\r\n"
     ]
    }
   ],
   "source": [
    "!pip install keras-image-helper"
   ]
  },
  {
   "cell_type": "code",
   "execution_count": 9,
   "id": "2bb4776d",
   "metadata": {},
   "outputs": [
    {
     "name": "stdout",
     "output_type": "stream",
     "text": [
      "Looking in indexes: https://pypi.org/simple, https://google-coral.github.io/py-repo/\r\n",
      "Requirement already satisfied: tflite_runtime in /opt/saturncloud/envs/saturn/lib/python3.9/site-packages (2.14.0)\r\n",
      "Requirement already satisfied: numpy>=1.23.2 in /opt/saturncloud/envs/saturn/lib/python3.9/site-packages (from tflite_runtime) (1.26.2)\r\n"
     ]
    }
   ],
   "source": [
    "!pip install --extra-index-url https://google-coral.github.io/py-repo/ tflite_runtime"
   ]
  },
  {
   "cell_type": "code",
   "execution_count": 1,
   "id": "1d674f52",
   "metadata": {},
   "outputs": [],
   "source": [
    "#import tensorflow.lite as tflite\n",
    "import tflite_runtime.interpreter as tflite\n",
    "from keras_image_helper import create_preprocessor"
   ]
  },
  {
   "cell_type": "code",
   "execution_count": 2,
   "id": "69344a5b",
   "metadata": {},
   "outputs": [
    {
     "name": "stderr",
     "output_type": "stream",
     "text": [
      "INFO: Created TensorFlow Lite XNNPACK delegate for CPU.\n"
     ]
    }
   ],
   "source": [
    "interpreter = tflite.Interpreter(model_path='xception_v4_48_0.886.tflite')\n",
    "interpreter.allocate_tensors()\n",
    "\n",
    "input_index = interpreter.get_input_details()[0]['index']\n",
    "output_index = interpreter.get_output_details()[0]['index']"
   ]
  },
  {
   "cell_type": "code",
   "execution_count": 3,
   "id": "c8c9c72f",
   "metadata": {},
   "outputs": [],
   "source": [
    "preprocessor = create_preprocessor('xception', target_size=(299, 299))"
   ]
  },
  {
   "cell_type": "code",
   "execution_count": 4,
   "id": "92e30710",
   "metadata": {},
   "outputs": [],
   "source": [
    "path = \"./evaluation/Fried food/107.jpg\"\n",
    "X = preprocessor.from_path(path)"
   ]
  },
  {
   "cell_type": "code",
   "execution_count": 5,
   "id": "850443ad",
   "metadata": {},
   "outputs": [],
   "source": [
    "interpreter.set_tensor(input_index, X)\n",
    "interpreter.invoke()\n",
    "preds = interpreter.get_tensor(output_index)"
   ]
  },
  {
   "cell_type": "code",
   "execution_count": 6,
   "id": "a62275b3",
   "metadata": {},
   "outputs": [
    {
     "data": {
      "text/plain": [
       "{'Bread': -1.1156602,\n",
       " 'Dairy product': -19.08321,\n",
       " 'Dessert': -15.672163,\n",
       " 'Egg': -15.45562,\n",
       " 'Fried food': 24.231289,\n",
       " 'Meat': -1.8954746,\n",
       " 'Noodles-Pasta': -24.310883,\n",
       " 'Rice': -27.576273,\n",
       " 'Seafood': -23.818464,\n",
       " 'Soup': -21.958662,\n",
       " 'Vegetable-Fruit': -8.89721}"
      ]
     },
     "execution_count": 6,
     "metadata": {},
     "output_type": "execute_result"
    }
   ],
   "source": [
    "classes = [\n",
    "    'Bread',\n",
    "    'Dairy product',\n",
    "    'Dessert',\n",
    "    'Egg',\n",
    "    'Fried food',\n",
    "    'Meat',\n",
    "    'Noodles-Pasta',\n",
    "    'Rice',\n",
    "    'Seafood',\n",
    "    'Soup',\n",
    "    'Vegetable-Fruit'\n",
    "]\n",
    "\n",
    "dict(zip(classes, preds[0]))"
   ]
  },
  {
   "cell_type": "code",
   "execution_count": 11,
   "id": "2f5dc155",
   "metadata": {},
   "outputs": [
    {
     "name": "stdout",
     "output_type": "stream",
     "text": [
      "The predicted class: Fried food\n"
     ]
    }
   ],
   "source": [
    "prediction_result = dict(zip(classes, preds[0]))\n",
    "\n",
    "max_class = max(prediction_result, key=prediction_result.get)\n",
    "print(f\"The predicted class: {max_class}\")"
   ]
  },
  {
   "cell_type": "code",
   "execution_count": null,
   "id": "fbcfaba6",
   "metadata": {},
   "outputs": [],
   "source": []
  }
 ],
 "metadata": {
  "kernelspec": {
   "display_name": "saturn (Python 3)",
   "language": "python",
   "name": "python3"
  },
  "language_info": {
   "codemirror_mode": {
    "name": "ipython",
    "version": 3
   },
   "file_extension": ".py",
   "mimetype": "text/x-python",
   "name": "python",
   "nbconvert_exporter": "python",
   "pygments_lexer": "ipython3",
   "version": "3.9.13"
  }
 },
 "nbformat": 4,
 "nbformat_minor": 5
}
